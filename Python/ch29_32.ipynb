{
 "cells": [
  {
   "attachments": {},
   "cell_type": "markdown",
   "metadata": {},
   "source": [
    "### 29"
   ]
  },
  {
   "cell_type": "code",
   "execution_count": 1,
   "metadata": {},
   "outputs": [
    {
     "name": "stdout",
     "output_type": "stream",
     "text": [
      "덧셈: 15, 뺄셈: 5, 곱셈: 50, 나눗셈: 2.0\n"
     ]
    }
   ],
   "source": [
    "x, y = map(int, input().split())\n",
    "def calc(x,y):\n",
    "    q = x + y\n",
    "    w = x - y\n",
    "    e = x * y\n",
    "    r = x / y\n",
    "    return q,w,e,r\n",
    "\n",
    "a, s, m, d = calc(x, y)\n",
    "print('덧셈: {0}, 뺄셈: {1}, 곱셈: {2}, 나눗셈: {3}'.format(a, s, m, d))"
   ]
  },
  {
   "attachments": {},
   "cell_type": "markdown",
   "metadata": {},
   "source": [
    "### 30"
   ]
  },
  {
   "cell_type": "code",
   "execution_count": 1,
   "metadata": {},
   "outputs": [
    {
     "name": "stdout",
     "output_type": "stream",
     "text": [
      "낮은 점수: 10.00, 높은 점수: 40.00, 평균 점수: 25.00\n",
      "낮은 점수: 20.00, 높은 점수: 40.00, 평균 점수: 30.00\n"
     ]
    }
   ],
   "source": [
    "korean, english, mathematics, science = map(int, input().split())\n",
    "def get_min_max_score(*args):\n",
    "    return min(args),max(args)\n",
    "def get_average(**kwargs):\n",
    "    return sum(kwargs.values())/len(kwargs)\n",
    "    \n",
    "\n",
    "\n",
    "    return \n",
    "\n",
    "\n",
    "min_score, max_score = get_min_max_score(korean, english, mathematics, science)\n",
    "average_score = get_average(korean=korean, english=english,\n",
    "                            mathematics=mathematics, science=science)\n",
    "print('낮은 점수: {0:.2f}, 높은 점수: {1:.2f}, 평균 점수: {2:.2f}'\n",
    "    .format(min_score, max_score, average_score))\n",
    "\n",
    "min_score, max_score = get_min_max_score(english, science)\n",
    "average_score = get_average(english=english, science=science)\n",
    "print('낮은 점수: {0:.2f}, 높은 점수: {1:.2f}, 평균 점수: {2:.2f}'\n",
    "    .format(min_score, max_score, average_score))"
   ]
  },
  {
   "attachments": {},
   "cell_type": "markdown",
   "metadata": {},
   "source": [
    "### 31"
   ]
  },
  {
   "cell_type": "code",
   "execution_count": 3,
   "metadata": {},
   "outputs": [
    {
     "name": "stdout",
     "output_type": "stream",
     "text": [
      "89\n"
     ]
    }
   ],
   "source": [
    "def fib(num):\n",
    "    if num == 1 or num == 0:\n",
    "        return 1\n",
    "    else:\n",
    "        return fib(num-1) + fib(num-2)\n",
    "\n",
    "\n",
    "\n",
    "n = int(input())\n",
    "print(fib(n))"
   ]
  },
  {
   "attachments": {},
   "cell_type": "markdown",
   "metadata": {},
   "source": [
    "### 32"
   ]
  },
  {
   "cell_type": "code",
   "execution_count": 5,
   "metadata": {},
   "outputs": [
    {
     "name": "stdout",
     "output_type": "stream",
     "text": [
      "['002.txt']\n"
     ]
    }
   ],
   "source": [
    "files = input().split()\n",
    "print(list(map(lambda x: x.split('.')[0].rjust(3,'0') + '.' + x.split('.')[1] ,files)))"
   ]
  },
  {
   "cell_type": "code",
   "execution_count": null,
   "metadata": {},
   "outputs": [],
   "source": []
  }
 ],
 "metadata": {
  "kernelspec": {
   "display_name": "base",
   "language": "python",
   "name": "python3"
  },
  "language_info": {
   "codemirror_mode": {
    "name": "ipython",
    "version": 3
   },
   "file_extension": ".py",
   "mimetype": "text/x-python",
   "name": "python",
   "nbconvert_exporter": "python",
   "pygments_lexer": "ipython3",
   "version": "3.10.9"
  },
  "orig_nbformat": 4
 },
 "nbformat": 4,
 "nbformat_minor": 2
}
