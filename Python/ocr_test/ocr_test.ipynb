{
 "cells": [
  {
   "cell_type": "code",
   "execution_count": 8,
   "metadata": {},
   "outputs": [],
   "source": [
    "# pip install opencv-contrib-python\n",
    "# pip install opencv-python\n",
    "# pip install pytesseract"
   ]
  },
  {
   "cell_type": "code",
   "execution_count": 9,
   "metadata": {},
   "outputs": [],
   "source": [
    "import pytesseract\n",
    "import cv2\n",
    "import matplotlib.pyplot as plt"
   ]
  },
  {
   "cell_type": "code",
   "execution_count": 10,
   "metadata": {},
   "outputs": [],
   "source": [
    "path = 'img/test01.jpg'\n",
    "image = cv2.imread(path)\n",
    "rgb_image = cv2.cvtColor(image, cv2.COLOR_BGR2RGB)"
   ]
  },
  {
   "cell_type": "code",
   "execution_count": 18,
   "metadata": {},
   "outputs": [
    {
     "name": "stdout",
     "output_type": "stream",
     "text": [
      "083867 Maa 1909 ‘a\n",
      "- ax , 990\n",
      "(Sub- & ap 품 수? 0 T\n",
      "\n",
      "노 크 식 수 정 테이프\n",
      "\n",
      "523714 | 9990 9, 99\n",
      "\n",
      "생 물 가리비 루신 9,990 T\n",
      "628923 ㅣ — 15999 15, 290\n",
      "\n",
      "ata 카스\n",
      "\n",
      "637713 2 15990 31,980 T\n",
      "VICENZI FIRENZE\n",
      "\n",
      "748066 . ㅣ . 13790 13, 790 T\n",
      "NM MULTI SET\n",
      "638463 49990 99, 980 T\n",
      "HAMLET #& 2 sl EI\n",
      "603607 1 9890. 9,890 T\n",
      "al 회 & 4] SI 4800\n",
      "617167 1 7390 7,390 T\n",
      "\n",
      "EAL AL 쿠폰\n",
      "\n",
      "4 회 용 비 닐 백 800\n",
      "618644 ] 1500 1, 500-T\n",
      "라 미 필 기 구 세 『\n",
      "635022 ㅣ 36990 36,990 T\n",
      "\n",
      "(Sub- 8 2 & + : 10) 321650\n",
      "\n",
      "30, 280\n",
      "264, 881\n",
      "26, 489\n",
      "321,650\n",
      "321, 650\n",
      "\n",
      "면세\n",
      "\n",
      "\n"
     ]
    }
   ],
   "source": [
    "text = pytesseract.image_to_string(rgb_image, lang='eng+kor')\n",
    "print(text)"
   ]
  },
  {
   "cell_type": "code",
   "execution_count": 19,
   "metadata": {},
   "outputs": [
    {
     "name": "stdout",
     "output_type": "stream",
     "text": [
      "['083867 Maa 1909 ‘a\\n- ax , 990\\n(Sub- & ap 품 수? 0 T\\n\\n노 크 식 수 정 테이프\\n\\n523714 | 9990 9, 99\\n\\n생 물 가리비 루신 9,990 T\\n628923 ㅣ — 15999 15, 290\\n\\nata 카스\\n\\n637713 2 15990 31,980 T\\nVICENZI FIRENZE\\n\\n748066 . ㅣ . 13790 13, 790 T\\nNM MULTI SET\\n638463 49990 99, 980 T\\nHAMLET #& 2 sl EI\\n603607 1 9890. 9,890 T\\nal 회 & 4] SI 4800\\n617167 1 7390 7,390 T\\n\\nEAL AL 쿠폰\\n\\n4 회 용 비 닐 백 800\\n618644 ] 1500 1, 500-T\\n라 미 필 기 구 세 『\\n635022 ㅣ 36990 36,990 T\\n\\n(Sub- 8 2 & + : 10) 321650\\n\\n30, 280\\n264, 881\\n26, 489\\n321,650\\n321, 650\\n\\n면세\\n\\n']\n"
     ]
    }
   ],
   "source": [
    "text = text.split('\\n')\n",
    "print(text)"
   ]
  },
  {
   "cell_type": "code",
   "execution_count": 20,
   "metadata": {},
   "outputs": [
    {
     "data": {
      "text/plain": [
       "list"
      ]
     },
     "execution_count": 20,
     "metadata": {},
     "output_type": "execute_result"
    }
   ],
   "source": [
    "type(text)"
   ]
  },
  {
   "cell_type": "code",
   "execution_count": null,
   "metadata": {},
   "outputs": [],
   "source": [
    "# test code\n",
    "# ocr2 branch test code"
   ]
  }
 ],
 "metadata": {
  "kernelspec": {
   "display_name": "base",
   "language": "python",
   "name": "python3"
  },
  "language_info": {
   "codemirror_mode": {
    "name": "ipython",
    "version": 3
   },
   "file_extension": ".py",
   "mimetype": "text/x-python",
   "name": "python",
   "nbconvert_exporter": "python",
   "pygments_lexer": "ipython3",
   "version": "3.10.9"
  },
  "orig_nbformat": 4
 },
 "nbformat": 4,
 "nbformat_minor": 2
}
