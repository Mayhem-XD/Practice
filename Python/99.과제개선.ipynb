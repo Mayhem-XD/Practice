{
 "cells": [
  {
   "cell_type": "code",
   "execution_count": null,
   "metadata": {},
   "outputs": [],
   "source": [
    "import random\n",
    "\n",
    "def roll_dice(num_dice, dice_range):\n",
    "    dice_rolls = []\n",
    "    for i in range(num_dice):\n",
    "        dice_rolls.append(random.randint(dice_range[0], dice_range[1]))\n",
    "        print(dice_rolls[i], end=' ')\n",
    "    print()\n",
    "    return dice_rolls\n",
    "\n",
    "def calculate_prize(dice_rolls):\n",
    "    dice_rolls.sort()\n",
    "\n",
    "    if dice_rolls[0] == dice_rolls[-1]:\n",
    "        money = 10000 + (dice_rolls[0] * 1000)\n",
    "    elif dice_rolls[0] == dice_rolls[1] or dice_rolls[1] == dice_rolls[2]:\n",
    "        money = 1000 + (dice_rolls[1] * 100)\n",
    "    else:\n",
    "        money = dice_rolls[-1] * 100\n",
    "\n",
    "    return money\n",
    "\n",
    "num_dice = 3\n",
    "dice_range = (1, 6)\n",
    "\n",
    "dice_rolls = roll_dice(num_dice, dice_range)\n",
    "prize_money = calculate_prize(dice_rolls)\n",
    "\n",
    "print(f'상금은 {prize_money:,d}원입니다.')\n"
   ]
  },
  {
   "cell_type": "code",
   "execution_count": null,
   "metadata": {},
   "outputs": [],
   "source": [
    "row, col = map(int, input().split())\n",
    "\n",
    "# create the empty 2D list\n",
    "matrix = [['' for _ in range(row)] for _ in range(col)]\n",
    "\n",
    "# populate the list with user input\n",
    "for i in range(col):\n",
    "    row = input().strip()\n",
    "    for j in range(row):\n",
    "        matrix[i][j] = row[j]\n",
    "\n",
    "# calculate the number of adjacent mines for each non-mine element\n",
    "for i in range(col):\n",
    "    for j in range(row):\n",
    "        if matrix[i][j] == '.':\n",
    "            count = 0\n",
    "            for x in range(max(0, i-1), min(i+2, col)):\n",
    "                for y in range(max(0, j-1), min(j+2, row)):\n",
    "                    if matrix[x][y] == '*':\n",
    "                        count += 1\n",
    "            print(count, end='')\n",
    "        else:\n",
    "            print(matrix[i][j], end='')\n",
    "    print()\n"
   ]
  }
 ],
 "metadata": {
  "language_info": {
   "name": "python"
  },
  "orig_nbformat": 4
 },
 "nbformat": 4,
 "nbformat_minor": 2
}
