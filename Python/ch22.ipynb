{
 "cells": [
  {
   "attachments": {},
   "cell_type": "markdown",
   "metadata": {},
   "source": [
    "### ch22"
   ]
  },
  {
   "cell_type": "code",
   "execution_count": 1,
   "metadata": {},
   "outputs": [
    {
     "name": "stdout",
     "output_type": "stream",
     "text": [
      "[2, 4, 8, 16, 32, 64, 128, 256, 512, 1024]\n"
     ]
    }
   ],
   "source": [
    "result = []\n",
    "start, stop = map(int,input().split())\n",
    "if 0<start<21 and 0<stop<31 and start < stop:\n",
    "    for i in range(start,stop+1):\n",
    "        result.append(2 ** i)\n",
    "del result[1],result[-2]\n",
    "print(result)"
   ]
  },
  {
   "cell_type": "code",
   "execution_count": 3,
   "metadata": {},
   "outputs": [
    {
     "name": "stdout",
     "output_type": "stream",
     "text": [
      "[2, 8, 16, 32, 64, 128, 256, 1024]\n"
     ]
    }
   ],
   "source": [
    "result = []\n",
    "start, stop = map(int,input().split())\n",
    "if 0<start<21 and 0<stop<31 and start < stop:\n",
    "    for i in range(start,stop+1):\n",
    "        result.append(2 ** i)\n",
    "del result[1],result[-2]\n",
    "print(result)"
   ]
  },
  {
   "cell_type": "code",
   "execution_count": 5,
   "metadata": {},
   "outputs": [
    {
     "name": "stdout",
     "output_type": "stream",
     "text": [
      "[2, 8, 16, 32, 64, 128, 256, 1024]\n"
     ]
    }
   ],
   "source": [
    "result = [2 ** i for i in range(start,stop+1)]\n",
    "del result[1], result[-2]\n",
    "print(result)"
   ]
  },
  {
   "attachments": {},
   "cell_type": "markdown",
   "metadata": {},
   "source": [
    "### ch 24"
   ]
  },
  {
   "cell_type": "code",
   "execution_count": 14,
   "metadata": {},
   "outputs": [
    {
     "name": "stdout",
     "output_type": "stream",
     "text": [
      "6\n"
     ]
    }
   ],
   "source": [
    "import re\n",
    "import string\n",
    "x = input()\n",
    "print(re.sub('['+ string.punctuation +']',' ', x).split().count('the'))\n"
   ]
  },
  {
   "cell_type": "code",
   "execution_count": 30,
   "metadata": {},
   "outputs": [
    {
     "name": "stdout",
     "output_type": "stream",
     "text": [
      " 1,304,000\n",
      "   367,500\n",
      "   250,000\n",
      "   158,000\n",
      "   128,500\n",
      "    83,000\n",
      "    59,200\n",
      "    51,900\n"
     ]
    }
   ],
   "source": [
    "prices = list(map(int,input().split(';')))\n",
    "prices.sort(reverse=True)\n",
    "for i in prices:\n",
    "    price = '{:,}'.format(i)\n",
    "    print(price.rjust(10))\n"
   ]
  },
  {
   "cell_type": "markdown",
   "metadata": {},
   "source": [
    "### 25"
   ]
  },
  {
   "cell_type": "code",
   "execution_count": 35,
   "metadata": {},
   "outputs": [
    {
     "name": "stdout",
     "output_type": "stream",
     "text": [
      "{'a': 10, 'b': 20}\n"
     ]
    }
   ],
   "source": [
    "keys = input().split()\n",
    "values = map(int, input().split())\n",
    "x = dict(zip(keys, values))\n",
    "del x['delta']\n",
    "x = {key: value for key, value in x.items() if value != 30}\n",
    "print(x)"
   ]
  },
  {
   "attachments": {},
   "cell_type": "markdown",
   "metadata": {},
   "source": [
    "### 26"
   ]
  },
  {
   "cell_type": "code",
   "execution_count": 38,
   "metadata": {},
   "outputs": [
    {
     "name": "stdout",
     "output_type": "stream",
     "text": [
      "28\n"
     ]
    }
   ],
   "source": [
    "a, b = map(int,input().split())\n",
    "a ={i for i in range(1,a+1) if a % i ==0}\n",
    "b ={i for i in range(1,b+1) if b % i ==0}\n",
    "\n",
    "divisor = a & b\n",
    "\n",
    "result = 0\n",
    "if type(divisor) == set:\n",
    "    result = sum(divisor)\n",
    "\n",
    "print(result)"
   ]
  },
  {
   "cell_type": "code",
   "execution_count": null,
   "metadata": {},
   "outputs": [],
   "source": []
  }
 ],
 "metadata": {
  "kernelspec": {
   "display_name": "base",
   "language": "python",
   "name": "python3"
  },
  "language_info": {
   "codemirror_mode": {
    "name": "ipython",
    "version": 3
   },
   "file_extension": ".py",
   "mimetype": "text/x-python",
   "name": "python",
   "nbconvert_exporter": "python",
   "pygments_lexer": "ipython3",
   "version": "3.10.9"
  },
  "orig_nbformat": 4
 },
 "nbformat": 4,
 "nbformat_minor": 2
}
