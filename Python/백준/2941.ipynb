{
 "cells": [
  {
   "cell_type": "code",
   "execution_count": 1,
   "metadata": {},
   "outputs": [],
   "source": [
    "# 크로아티아 알파벳 리스트 만들고\n",
    "# 입력받고\n",
    "# 2개씩 쪼개서 있는지 확인\n",
    "# 3개씩 쪼개서 있는지 확인\n",
    "# 입력받은 문자열 길이 - count"
   ]
  },
  {
   "cell_type": "code",
   "execution_count": 7,
   "metadata": {},
   "outputs": [
    {
     "name": "stdout",
     "output_type": "stream",
     "text": [
      "6\n"
     ]
    }
   ],
   "source": [
    "croatia_alp = 'c= c- dz= d- lj nj s= z='.split()\n",
    "input_str = str(input())\n",
    "ca_count = 0\n",
    "for i in range(len(input_str)):\n",
    "    temp = ''.join(input_str[i:i+2])\n",
    "    if temp in croatia_alp:\n",
    "        ca_count += 1\n",
    "result = len(input_str) - ca_count\n",
    "print(result)"
   ]
  },
  {
   "cell_type": "code",
   "execution_count": 27,
   "metadata": {},
   "outputs": [
    {
     "name": "stdout",
     "output_type": "stream",
     "text": [
      "3\n"
     ]
    }
   ],
   "source": [
    "croatia_alp = 'c= c- dz= d- lj nj s= z='.split()\n",
    "input_str = input()\n",
    "ca_count = 0\n",
    "for i in range(len(input_str)):\n",
    "    temp = ''.join(input_str[i:i+2])\n",
    "    if temp in croatia_alp:\n",
    "        ca_count += 1\n",
    "for j in range(0,len(input_str)-2):\n",
    "    temp = ''.join(input_str[j:j+3])\n",
    "    if temp in croatia_alp:\n",
    "        ca_count += 1\n",
    "result = len(input_str) - ca_count\n",
    "print(result)"
   ]
  },
  {
   "cell_type": "code",
   "execution_count": 28,
   "metadata": {},
   "outputs": [
    {
     "name": "stdout",
     "output_type": "stream",
     "text": [
      "3\n"
     ]
    }
   ],
   "source": [
    "croatia_alp = 'c= c- dz= d- lj nj s= z='.split()\n",
    "def ck_ca_alp(str_input):\n",
    "    ca_count = 0\n",
    "    for i in range(len(str_input)):\n",
    "        temp = ''.join(str_input[i:i+2])\n",
    "        if temp in croatia_alp:\n",
    "            ca_count += 1\n",
    "    for j in range(0,len(input_str)-2):\n",
    "        temp = ''.join(input_str[j:j+3])\n",
    "        if temp in croatia_alp:\n",
    "            ca_count += 1\n",
    "    return ca_count\n",
    "input_str = input()\n",
    "res = len(input_str) - ck_ca_alp(input_str)\n",
    "print(res)"
   ]
  },
  {
   "cell_type": "code",
   "execution_count": null,
   "metadata": {},
   "outputs": [],
   "source": []
  }
 ],
 "metadata": {
  "kernelspec": {
   "display_name": "base",
   "language": "python",
   "name": "python3"
  },
  "language_info": {
   "codemirror_mode": {
    "name": "ipython",
    "version": 3
   },
   "file_extension": ".py",
   "mimetype": "text/x-python",
   "name": "python",
   "nbconvert_exporter": "python",
   "pygments_lexer": "ipython3",
   "version": "3.10.10"
  },
  "orig_nbformat": 4
 },
 "nbformat": 4,
 "nbformat_minor": 2
}
