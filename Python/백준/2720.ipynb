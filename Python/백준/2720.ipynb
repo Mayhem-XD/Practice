{
 "cells": [
  {
   "cell_type": "code",
   "execution_count": 23,
   "metadata": {},
   "outputs": [],
   "source": [
    "def change_(num_input):\n",
    "    temp=0\n",
    "    res = []\n",
    "    for a in range(100):\n",
    "        for b in range(50):\n",
    "            for c in range(50):\n",
    "                for d in range(20):\n",
    "                    if (1*a)+(5*b)+(10*c)+(25*d) == num_input:\n",
    "                        # res.append(a),res.append(b),res.append(c),res.append(d)\n",
    "                        # temp = sum\n",
    "                        return f'{d} {c} {b} {a}'"
   ]
  },
  {
   "cell_type": "code",
   "execution_count": 24,
   "metadata": {},
   "outputs": [
    {
     "name": "stdout",
     "output_type": "stream",
     "text": [
      "0 0 0 0\n"
     ]
    }
   ],
   "source": [
    "test_case = int(input())\n",
    "for i in range(test_case):\n",
    "    num_input = int(input())\n",
    "    result = change_(num_input)\n",
    "    print(result)    "
   ]
  },
  {
   "cell_type": "code",
   "execution_count": null,
   "metadata": {},
   "outputs": [],
   "source": []
  }
 ],
 "metadata": {
  "kernelspec": {
   "display_name": "base",
   "language": "python",
   "name": "python3"
  },
  "language_info": {
   "codemirror_mode": {
    "name": "ipython",
    "version": 3
   },
   "file_extension": ".py",
   "mimetype": "text/x-python",
   "name": "python",
   "nbconvert_exporter": "python",
   "pygments_lexer": "ipython3",
   "version": "3.10.10"
  },
  "orig_nbformat": 4
 },
 "nbformat": 4,
 "nbformat_minor": 2
}
