{
 "cells": [
  {
   "attachments": {},
   "cell_type": "markdown",
   "metadata": {},
   "source": [
    "### 킹준"
   ]
  },
  {
   "attachments": {},
   "cell_type": "markdown",
   "metadata": {},
   "source": [
    "- 1157"
   ]
  },
  {
   "cell_type": "code",
   "execution_count": 9,
   "metadata": {},
   "outputs": [
    {
     "name": "stdout",
     "output_type": "stream",
     "text": [
      "I\n"
     ]
    }
   ],
   "source": [
    "# 문자열 입력 받음\n",
    "input_str = input()\n",
    "char_count= {}\n",
    "# char_count dict를 만들어서 이미 dict 안에 존재하는 경우 값을 1증가\n",
    "for char in input_str:\n",
    "    if char in char_count:\n",
    "        char_count[char] += 1\n",
    "    else:\n",
    "        char_count[char] = 1\n",
    "# dict 내에서 최대값 찾기\n",
    "most_common_char = max(char_count,key=char_count.get)\n",
    "# 대문자로 출력\n",
    "print(most_common_char.upper())"
   ]
  },
  {
   "cell_type": "code",
   "execution_count": 10,
   "metadata": {},
   "outputs": [],
   "source": [
    "# max(iterable, *, key=none)\n",
    "# 이터러블에서 가장 큰 항목이나 두 개 이상의 인자 중 가장 큰 것을 리턴함\n",
    "# key 인자는 list.sort() 에 사용되는 것처럼 단일 인자 순서 함수를 지정함"
   ]
  },
  {
   "cell_type": "code",
   "execution_count": 14,
   "metadata": {},
   "outputs": [
    {
     "name": "stdout",
     "output_type": "stream",
     "text": [
      "input=> Mississipi most_common_char => I\n"
     ]
    }
   ],
   "source": [
    "input_str = input()\n",
    "char_count = {char: input_str.count(char) for char in input_str}\n",
    "most_common_char = max(char_count, key=char_count.get)\n",
    "print(f'input=> {input_str} most_common_char => {most_common_char.upper()}')\n"
   ]
  },
  {
   "cell_type": "code",
   "execution_count": null,
   "metadata": {},
   "outputs": [],
   "source": []
  }
 ],
 "metadata": {
  "kernelspec": {
   "display_name": "base",
   "language": "python",
   "name": "python3"
  },
  "language_info": {
   "codemirror_mode": {
    "name": "ipython",
    "version": 3
   },
   "file_extension": ".py",
   "mimetype": "text/x-python",
   "name": "python",
   "nbconvert_exporter": "python",
   "pygments_lexer": "ipython3",
   "version": "3.10.10"
  },
  "orig_nbformat": 4
 },
 "nbformat": 4,
 "nbformat_minor": 2
}
